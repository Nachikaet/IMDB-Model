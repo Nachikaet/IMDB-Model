{
  "nbformat": 4,
  "nbformat_minor": 0,
  "metadata": {
    "colab": {
      "provenance": [],
      "gpuType": "T4"
    },
    "kernelspec": {
      "name": "python3",
      "display_name": "Python 3"
    },
    "language_info": {
      "name": "python"
    },
    "accelerator": "GPU"
  },
  "cells": [
    {
      "cell_type": "code",
      "execution_count": 2,
      "metadata": {
        "colab": {
          "base_uri": "https://localhost:8080/"
        },
        "id": "6KdlheFN4vQA",
        "outputId": "241b7518-8575-4c90-9171-a3690bac2543"
      },
      "outputs": [
        {
          "output_type": "stream",
          "name": "stdout",
          "text": [
            "Mounted at /content/drive\n"
          ]
        }
      ],
      "source": [
        "from google.colab import drive\n",
        "drive.mount('/content/drive')\n",
        "import pandas as pd\n",
        "fileused='/content/drive/MyDrive/ML/IMDB Dataset.csv'"
      ]
    },
    {
      "cell_type": "code",
      "source": [
        "from sklearn.svm import LinearSVC\n",
        "import re\n",
        "from sklearn.feature_extraction.text import CountVectorizer\n",
        "from sklearn.model_selection import train_test_split\n",
        "from sklearn.metrics import accuracy_score,confusion_matrix,classification_report,precision_score,recall_score,confusion_score\n",
        "df=pd.read_csv(fileused)\n",
        "def preprocess(doc):\n",
        "  words=re.findall(r\"\\b[a-z]+\\b\",str(doc).lower())\n",
        "  return \" \".join(words)\n",
        "df[\"cleaned\"]=df[\"review\"].apply(preprocess)\n",
        "vectorizer=CountVectorizer(binary=True)\n",
        "X=vectorizer.fit_transform(df[\"cleaned\"])\n",
        "label_mapping={\"negative\":0, \"positive\":1}\n",
        "df[\"label\"]=df[\"sentiment\"].map(label_mapping)\n",
        "y=df[\"label\"].values\n",
        "X_train,X_test,y_train,y_test=train_test_split(X,y,test_size=0.2,random_state=42)\n",
        "model=LinearSVC()\n",
        "model.fit(X_train,y_train)\n",
        "y_pred=model.predict(X_test)\n",
        "print(\"Accuracy is \",accuracy_score(y_test,y_pred))\n",
        "print(\"Classification report is: \\n\\n\",classification_report(y_test,y_pred))\n",
        "print(\"Confusion matrix is\\n\")\n",
        "print(confusion_matrix(y_test,y_pred))"
      ],
      "metadata": {
        "colab": {
          "base_uri": "https://localhost:8080/"
        },
        "id": "PY-Aj25X4v8j",
        "outputId": "1f853394-3f38-482e-97ad-9f6bccc8f17f"
      },
      "execution_count": 3,
      "outputs": [
        {
          "output_type": "stream",
          "name": "stdout",
          "text": [
            "Accuracy is  0.8655\n",
            "Classification report is: \n",
            "\n",
            "               precision    recall  f1-score   support\n",
            "\n",
            "           0       0.87      0.86      0.86      4961\n",
            "           1       0.86      0.87      0.87      5039\n",
            "\n",
            "    accuracy                           0.87     10000\n",
            "   macro avg       0.87      0.87      0.87     10000\n",
            "weighted avg       0.87      0.87      0.87     10000\n",
            "\n",
            "Confusion matrix is\n",
            "\n",
            "[[4273  688]\n",
            " [ 657 4382]]\n"
          ]
        },
        {
          "output_type": "stream",
          "name": "stderr",
          "text": [
            "/usr/local/lib/python3.12/dist-packages/sklearn/svm/_base.py:1249: ConvergenceWarning: Liblinear failed to converge, increase the number of iterations.\n",
            "  warnings.warn(\n"
          ]
        }
      ]
    }
  ]
}